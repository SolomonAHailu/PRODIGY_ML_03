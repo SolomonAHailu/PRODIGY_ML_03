{
 "cells": [
  {
   "cell_type": "code",
   "execution_count": null,
   "id": "35d1a92f-227e-41dc-944e-a1c6cd9a58d1",
   "metadata": {},
   "outputs": [],
   "source": [
    "import numpy as np\n",
    "import pandas as pd\n",
    "import os\n",
    "import cv2\n",
    "import random\n",
    "import pickle\n",
    "import matplotlib.pyplot as plt"
   ]
  },
  {
   "cell_type": "code",
   "execution_count": null,
   "id": "16165242-da2f-493e-bba2-d0464cc952e8",
   "metadata": {},
   "outputs": [],
   "source": [
    "DIRECTORY = r'C:\\Users\\sol\\Documents\\ML Projects\\Support Vector Machine (SVM) to Classify Images of Cats and Dogs\\train'\n",
    "CATEGORIES = ['cat', 'dog']"
   ]
  },
  {
   "cell_type": "code",
   "execution_count": null,
   "id": "14229e2a-368a-4efd-a232-e457590dbca5",
   "metadata": {},
   "outputs": [],
   "source": [
    "IMG_SIZE = 100\n",
    "\n",
    "CATEGORY = ['cat', 'dog']\n",
    "data = []\n",
    "\n",
    "count = 1\n",
    "label = ''\n",
    "for img in os.listdir(DIRECTORY):\n",
    "    count += 1\n",
    "    if count <= 12499:\n",
    "        label = 'cat'\n",
    "    else:\n",
    "        label = 'dog'\n",
    "        \n",
    "    img_path = os.path.join(DIRECTORY, img)\n",
    "    img_array = cv2.imread(img_path)\n",
    "    cv2.resize(img_array, (IMG_SIZE, IMG_SIZE))\n",
    "    data.append([img_array, label])\n",
    "    # print(data)\n",
    "    # break"
   ]
  },
  {
   "cell_type": "code",
   "execution_count": null,
   "id": "cd4614e9-b725-4f0d-9096-d8c8cb154751",
   "metadata": {},
   "outputs": [],
   "source": [
    "len(data)"
   ]
  },
  {
   "cell_type": "code",
   "execution_count": null,
   "id": "1b8e21a3-2ec1-47ac-81cb-8d28f99fcb2c",
   "metadata": {},
   "outputs": [],
   "source": [
    "random.shuffle(data)"
   ]
  },
  {
   "cell_type": "code",
   "execution_count": null,
   "id": "21674735-3ce2-43b5-98a9-6fb5d055d7a6",
   "metadata": {},
   "outputs": [],
   "source": [
    "X = []\n",
    "y = []\n",
    "\n",
    "for features, labels in data:\n",
    "    X.append(features)\n",
    "    y.append(labels)"
   ]
  },
  {
   "cell_type": "code",
   "execution_count": null,
   "id": "4b4c4c14-5dcd-403c-91a5-0687dcae9c00",
   "metadata": {},
   "outputs": [],
   "source": [
    "ynew = []\n",
    "for yval in y:\n",
    "    if yval == \"dog\":\n",
    "        ynew.append(0)\n",
    "    else:\n",
    "        ynew.append(1)\n",
    "y = ynew"
   ]
  },
  {
   "cell_type": "code",
   "execution_count": null,
   "id": "214fcb5e-5457-44bc-bafa-1f2c529b2a7b",
   "metadata": {},
   "outputs": [],
   "source": [
    "# Convert X and ensure all elements are NumPy arrays\n",
    "X = np.array(X)\n",
    "\n",
    "# Ensure y is a NumPy array\n",
    "y = np.array(y)"
   ]
  },
  {
   "cell_type": "code",
   "execution_count": null,
   "id": "d821b124-8111-487e-b9e6-a2f1e86ab8cb",
   "metadata": {},
   "outputs": [],
   "source": [
    "pickle.dump(X, open(\"X.pkl\", \"wb\"))\n",
    "pickle.dump(y, open(\"y.pkl\", \"wb\"))"
   ]
  },
  {
   "cell_type": "code",
   "execution_count": null,
   "id": "e542d15a-c5f0-4733-8d2c-37c254ae563b",
   "metadata": {},
   "outputs": [],
   "source": [
    "# Training of model follows from here\n",
    "X = pickle.load(open(\"X.pkl\", \"rb\"))\n",
    "y = pickle.load(open(\"y.pkl\", \"rb\"))"
   ]
  },
  {
   "cell_type": "code",
   "execution_count": null,
   "id": "9a4571ec-5f38-4961-84da-22c417408aa2",
   "metadata": {},
   "outputs": [],
   "source": [
    "# Function to resize an array to a target shape\n",
    "def resize_array(arr, target_shape):\n",
    "    return cv2.resize(arr, (target_shape[1], target_shape[0]))"
   ]
  },
  {
   "cell_type": "code",
   "execution_count": null,
   "id": "e44846df-a8c1-4dd7-b963-9ce8d0cadbea",
   "metadata": {},
   "outputs": [],
   "source": [
    "# Target shape for resizing (choose appropriate dimensions)\n",
    "target_shape = (100, 100, 3)\n",
    "\n",
    "# Resize all arrays to the target shape\n",
    "resized_X = [resize_array(arr, target_shape[:2]) for arr in X]\n",
    "\n",
    "# Convert the list of resized arrays to a NumPy array\n",
    "X = np.array(resized_X)"
   ]
  },
  {
   "cell_type": "code",
   "execution_count": null,
   "id": "483c133c-061d-424e-97e2-7777e73b8e92",
   "metadata": {},
   "outputs": [],
   "source": [
    "X = X/255"
   ]
  },
  {
   "cell_type": "code",
   "execution_count": null,
   "id": "8e56c808-56df-421c-8efb-a6531cd98a68",
   "metadata": {},
   "outputs": [],
   "source": [
    "X.shape"
   ]
  },
  {
   "cell_type": "code",
   "execution_count": null,
   "id": "e2d0530f-5ed1-4200-9184-4f79b6e49aed",
   "metadata": {},
   "outputs": [],
   "source": [
    "from keras.models import Sequential\n",
    "from keras.layers import Conv2D, MaxPooling2D, Flatten, Dense"
   ]
  },
  {
   "cell_type": "code",
   "execution_count": null,
   "id": "be018692-24c7-4717-ae53-c42c090716c8",
   "metadata": {},
   "outputs": [],
   "source": [
    "model = Sequential()\n",
    "\n",
    "model.add(Conv2D(64, (3,3), activation = 'relu'))\n",
    "model.add(MaxPooling2D((2,2)))\n",
    "\n",
    "model.add(Conv2D(64, (3,3), activation = 'relu'))\n",
    "model.add(MaxPooling2D((2,2)))\n",
    "\n",
    "model.add(Flatten())\n",
    "\n",
    "model.add(Dense(128, input_shape = X.shape[1:], activation = 'relu'))\n",
    "\n",
    "model.add(Dense(2, activation = 'softmax'))"
   ]
  },
  {
   "cell_type": "code",
   "execution_count": null,
   "id": "f4cf9890-8b80-4e6b-85a2-b0573ae6da69",
   "metadata": {},
   "outputs": [],
   "source": [
    "model.compile(optimizer = 'adam', loss='sparse_categorical_crossentropy',  metrics = ['accuracy'])"
   ]
  },
  {
   "cell_type": "code",
   "execution_count": null,
   "id": "01d9a9f6-09bd-4c07-b71f-f5cfc8a08619",
   "metadata": {},
   "outputs": [],
   "source": [
    "model.fit(X, y, epochs = 5, validation_split = 0.1)"
   ]
  }
 ],
 "metadata": {
  "kernelspec": {
   "display_name": "Python 3 (ipykernel)",
   "language": "python",
   "name": "python3"
  },
  "language_info": {
   "codemirror_mode": {
    "name": "ipython",
    "version": 3
   },
   "file_extension": ".py",
   "mimetype": "text/x-python",
   "name": "python",
   "nbconvert_exporter": "python",
   "pygments_lexer": "ipython3",
   "version": "3.12.2"
  }
 },
 "nbformat": 4,
 "nbformat_minor": 5
}
