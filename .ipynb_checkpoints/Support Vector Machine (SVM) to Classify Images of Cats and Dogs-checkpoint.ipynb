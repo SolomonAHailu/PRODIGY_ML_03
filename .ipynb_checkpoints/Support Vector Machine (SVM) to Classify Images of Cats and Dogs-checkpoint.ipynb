{
 "cells": [
  {
   "cell_type": "code",
   "execution_count": 9,
   "id": "bedbd421-8be4-4a5d-bd9c-a40bb894d3c3",
   "metadata": {},
   "outputs": [],
   "source": [
    "import numpy as np\n",
    "import pandas as pd\n",
    "import os\n",
    "import cv2\n",
    "import random\n",
    "import pickle\n",
    "import matplotlib.pyplot as plt"
   ]
  },
  {
   "cell_type": "code",
   "execution_count": 10,
   "id": "b169a624-9520-4568-afe9-6ad2d63d093c",
   "metadata": {},
   "outputs": [],
   "source": [
    "DIRECTORY = r'C:\\Users\\sol\\Documents\\ML Projects\\Support Vector Machine (SVM) to Classify Images of Cats and Dogs\\train'\n",
    "CATEGORIES = ['cat', 'dog']"
   ]
  },
  {
   "cell_type": "code",
   "execution_count": 11,
   "id": "fc97527f-118d-4a8b-b35e-998fbaaedd28",
   "metadata": {},
   "outputs": [
    {
     "name": "stdout",
     "output_type": "stream",
     "text": [
      "C:\\Users\\sol\\Documents\\ML Projects\\Support Vector Machine (SVM) to Classify Images of Cats and Dogs\\train\n"
     ]
    }
   ],
   "source": [
    "print(DIRECTORY)"
   ]
  },
  {
   "cell_type": "code",
   "execution_count": 12,
   "id": "8960cfee-e0b9-43ea-99da-57cc3e605c2a",
   "metadata": {},
   "outputs": [],
   "source": [
    "IMG_SIZE = 100\n",
    "\n",
    "CATEGORY = ['cat', 'dog']\n",
    "data = []\n",
    "\n",
    "count = 1\n",
    "label = ''\n",
    "for img in os.listdir(DIRECTORY):\n",
    "    count += 1\n",
    "    if count <= 12499:\n",
    "        label = 'cat'\n",
    "    else:\n",
    "        label = 'dog'\n",
    "        \n",
    "    img_path = os.path.join(DIRECTORY, img)\n",
    "    img_array = cv2.imread(img_path)\n",
    "    cv2.resize(img_array, (IMG_SIZE, IMG_SIZE))\n",
    "    data.append([img_array, label])\n",
    "    # print(data)\n",
    "    # break"
   ]
  },
  {
   "cell_type": "code",
   "execution_count": 13,
   "id": "551a21a6-e367-4307-8ea3-c2c2ef738895",
   "metadata": {},
   "outputs": [
    {
     "data": {
      "text/plain": [
       "25000"
      ]
     },
     "execution_count": 13,
     "metadata": {},
     "output_type": "execute_result"
    }
   ],
   "source": [
    "len(data)"
   ]
  },
  {
   "cell_type": "code",
   "execution_count": 14,
   "id": "b67b61a2-57ea-4ccc-af9c-5dae17a6f405",
   "metadata": {},
   "outputs": [],
   "source": [
    "random.shuffle(data)"
   ]
  },
  {
   "cell_type": "code",
   "execution_count": 15,
   "id": "fbb58484-4754-4b39-bd72-fb794a580470",
   "metadata": {},
   "outputs": [
    {
     "data": {
      "text/plain": [
       "[array([[[ 93,  97,  98],\n",
       "         [ 48,  52,  53],\n",
       "         [ 38,  39,  43],\n",
       "         ...,\n",
       "         [112, 162, 198],\n",
       "         [114, 162, 196],\n",
       "         [114, 162, 196]],\n",
       " \n",
       "        [[ 44,  47,  51],\n",
       "         [ 25,  28,  32],\n",
       "         [ 25,  28,  32],\n",
       "         ...,\n",
       "         [113, 163, 199],\n",
       "         [115, 163, 197],\n",
       "         [115, 163, 197]],\n",
       " \n",
       "        [[ 10,  14,  19],\n",
       "         [ 17,  21,  26],\n",
       "         [ 25,  29,  34],\n",
       "         ...,\n",
       "         [114, 164, 200],\n",
       "         [116, 164, 198],\n",
       "         [116, 164, 198]],\n",
       " \n",
       "        ...,\n",
       " \n",
       "        [[187, 195, 202],\n",
       "         [188, 196, 203],\n",
       "         [191, 198, 207],\n",
       "         ...,\n",
       "         [211, 212, 216],\n",
       "         [211, 212, 216],\n",
       "         [211, 212, 216]],\n",
       " \n",
       "        [[187, 195, 202],\n",
       "         [188, 196, 203],\n",
       "         [191, 198, 207],\n",
       "         ...,\n",
       "         [214, 217, 221],\n",
       "         [213, 218, 219],\n",
       "         [214, 219, 220]],\n",
       " \n",
       "        [[184, 192, 199],\n",
       "         [186, 194, 201],\n",
       "         [188, 195, 204],\n",
       "         ...,\n",
       "         [218, 223, 226],\n",
       "         [216, 224, 224],\n",
       "         [217, 225, 225]]], dtype=uint8),\n",
       " 'cat']"
      ]
     },
     "execution_count": 15,
     "metadata": {},
     "output_type": "execute_result"
    }
   ],
   "source": [
    "data[0]"
   ]
  },
  {
   "cell_type": "code",
   "execution_count": null,
   "id": "b43d4102-5f0c-4c39-a8cf-18840aa9f2ae",
   "metadata": {},
   "outputs": [],
   "source": []
  }
 ],
 "metadata": {
  "kernelspec": {
   "display_name": "Python 3 (ipykernel)",
   "language": "python",
   "name": "python3"
  },
  "language_info": {
   "codemirror_mode": {
    "name": "ipython",
    "version": 3
   },
   "file_extension": ".py",
   "mimetype": "text/x-python",
   "name": "python",
   "nbconvert_exporter": "python",
   "pygments_lexer": "ipython3",
   "version": "3.12.2"
  }
 },
 "nbformat": 4,
 "nbformat_minor": 5
}
