{
 "cells": [
  {
   "cell_type": "code",
<<<<<<< HEAD
   "execution_count": 2,
=======
   "execution_count": 9,
>>>>>>> 3d83e66cd53f2646ad11aa963b73532263fc3a6c
   "id": "bedbd421-8be4-4a5d-bd9c-a40bb894d3c3",
   "metadata": {},
   "outputs": [],
   "source": [
    "import numpy as np\n",
    "import pandas as pd\n",
    "import os\n",
    "import cv2\n",
    "import random\n",
    "import pickle\n",
    "import matplotlib.pyplot as plt"
   ]
  },
  {
   "cell_type": "code",
<<<<<<< HEAD
   "execution_count": 3,
=======
   "execution_count": 10,
>>>>>>> 3d83e66cd53f2646ad11aa963b73532263fc3a6c
   "id": "b169a624-9520-4568-afe9-6ad2d63d093c",
   "metadata": {},
   "outputs": [],
   "source": [
    "DIRECTORY = r'C:\\Users\\sol\\Documents\\ML Projects\\Support Vector Machine (SVM) to Classify Images of Cats and Dogs\\train'\n",
    "CATEGORIES = ['cat', 'dog']"
   ]
  },
  {
   "cell_type": "code",
<<<<<<< HEAD
   "execution_count": 4,
=======
   "execution_count": 11,
>>>>>>> 3d83e66cd53f2646ad11aa963b73532263fc3a6c
   "id": "fc97527f-118d-4a8b-b35e-998fbaaedd28",
   "metadata": {},
   "outputs": [
    {
     "name": "stdout",
     "output_type": "stream",
     "text": [
      "C:\\Users\\sol\\Documents\\ML Projects\\Support Vector Machine (SVM) to Classify Images of Cats and Dogs\\train\n"
     ]
    }
   ],
   "source": [
    "print(DIRECTORY)"
   ]
  },
  {
   "cell_type": "code",
<<<<<<< HEAD
   "execution_count": 5,
=======
   "execution_count": 12,
>>>>>>> 3d83e66cd53f2646ad11aa963b73532263fc3a6c
   "id": "8960cfee-e0b9-43ea-99da-57cc3e605c2a",
   "metadata": {},
   "outputs": [],
   "source": [
    "IMG_SIZE = 100\n",
    "\n",
    "CATEGORY = ['cat', 'dog']\n",
    "data = []\n",
    "\n",
    "count = 1\n",
    "label = ''\n",
    "for img in os.listdir(DIRECTORY):\n",
    "    count += 1\n",
    "    if count <= 12499:\n",
    "        label = 'cat'\n",
    "    else:\n",
    "        label = 'dog'\n",
    "        \n",
    "    img_path = os.path.join(DIRECTORY, img)\n",
    "    img_array = cv2.imread(img_path)\n",
    "    cv2.resize(img_array, (IMG_SIZE, IMG_SIZE))\n",
    "    data.append([img_array, label])\n",
    "    # print(data)\n",
    "    # break"
   ]
  },
  {
   "cell_type": "code",
<<<<<<< HEAD
   "execution_count": 6,
=======
   "execution_count": 13,
>>>>>>> 3d83e66cd53f2646ad11aa963b73532263fc3a6c
   "id": "551a21a6-e367-4307-8ea3-c2c2ef738895",
   "metadata": {},
   "outputs": [
    {
     "data": {
      "text/plain": [
       "25000"
      ]
     },
<<<<<<< HEAD
     "execution_count": 6,
=======
     "execution_count": 13,
>>>>>>> 3d83e66cd53f2646ad11aa963b73532263fc3a6c
     "metadata": {},
     "output_type": "execute_result"
    }
   ],
   "source": [
    "len(data)"
   ]
  },
  {
   "cell_type": "code",
<<<<<<< HEAD
   "execution_count": 8,
=======
   "execution_count": 14,
>>>>>>> 3d83e66cd53f2646ad11aa963b73532263fc3a6c
   "id": "b67b61a2-57ea-4ccc-af9c-5dae17a6f405",
   "metadata": {},
   "outputs": [],
   "source": [
    "random.shuffle(data)"
   ]
  },
  {
   "cell_type": "code",
<<<<<<< HEAD
   "execution_count": 9,
=======
   "execution_count": 15,
>>>>>>> 3d83e66cd53f2646ad11aa963b73532263fc3a6c
   "id": "fbb58484-4754-4b39-bd72-fb794a580470",
   "metadata": {},
   "outputs": [
    {
     "data": {
      "text/plain": [
<<<<<<< HEAD
       "[array([[[221, 208, 230],\n",
       "         [221, 208, 230],\n",
       "         [221, 208, 230],\n",
       "         ...,\n",
       "         [106, 122,  99],\n",
       "         [110, 126, 103],\n",
       "         [113, 129, 106]],\n",
       " \n",
       "        [[222, 209, 231],\n",
       "         [222, 209, 231],\n",
       "         [221, 208, 230],\n",
       "         ...,\n",
       "         [102, 118,  95],\n",
       "         [103, 118,  97],\n",
       "         [105, 121,  98]],\n",
       " \n",
       "        [[225, 212, 234],\n",
       "         [223, 210, 232],\n",
       "         [221, 208, 230],\n",
       "         ...,\n",
       "         [ 93, 108,  87],\n",
       "         [ 90, 104,  86],\n",
       "         [ 87, 102,  81]],\n",
       " \n",
       "        ...,\n",
       " \n",
       "        [[ 50,  59,  63],\n",
       "         [100, 107, 110],\n",
       "         [130, 134, 135],\n",
       "         ...,\n",
       "         [112, 103,  99],\n",
       "         [ 86,  77,  73],\n",
       "         [ 58,  49,  45]],\n",
       " \n",
       "        [[ 74,  83,  86],\n",
       "         [126, 134, 134],\n",
       "         [144, 146, 146],\n",
       "         ...,\n",
       "         [115, 106, 103],\n",
       "         [ 81,  72,  69],\n",
       "         [ 60,  51,  48]],\n",
       " \n",
       "        [[ 90, 100, 100],\n",
       "         [138, 146, 145],\n",
       "         [144, 146, 146],\n",
       "         ...,\n",
       "         [ 88,  78,  78],\n",
       "         [ 52,  42,  42],\n",
       "         [ 38,  28,  28]]], dtype=uint8),\n",
       " 'dog']"
      ]
     },
     "execution_count": 9,
=======
       "[array([[[ 93,  97,  98],\n",
       "         [ 48,  52,  53],\n",
       "         [ 38,  39,  43],\n",
       "         ...,\n",
       "         [112, 162, 198],\n",
       "         [114, 162, 196],\n",
       "         [114, 162, 196]],\n",
       " \n",
       "        [[ 44,  47,  51],\n",
       "         [ 25,  28,  32],\n",
       "         [ 25,  28,  32],\n",
       "         ...,\n",
       "         [113, 163, 199],\n",
       "         [115, 163, 197],\n",
       "         [115, 163, 197]],\n",
       " \n",
       "        [[ 10,  14,  19],\n",
       "         [ 17,  21,  26],\n",
       "         [ 25,  29,  34],\n",
       "         ...,\n",
       "         [114, 164, 200],\n",
       "         [116, 164, 198],\n",
       "         [116, 164, 198]],\n",
       " \n",
       "        ...,\n",
       " \n",
       "        [[187, 195, 202],\n",
       "         [188, 196, 203],\n",
       "         [191, 198, 207],\n",
       "         ...,\n",
       "         [211, 212, 216],\n",
       "         [211, 212, 216],\n",
       "         [211, 212, 216]],\n",
       " \n",
       "        [[187, 195, 202],\n",
       "         [188, 196, 203],\n",
       "         [191, 198, 207],\n",
       "         ...,\n",
       "         [214, 217, 221],\n",
       "         [213, 218, 219],\n",
       "         [214, 219, 220]],\n",
       " \n",
       "        [[184, 192, 199],\n",
       "         [186, 194, 201],\n",
       "         [188, 195, 204],\n",
       "         ...,\n",
       "         [218, 223, 226],\n",
       "         [216, 224, 224],\n",
       "         [217, 225, 225]]], dtype=uint8),\n",
       " 'cat']"
      ]
     },
     "execution_count": 15,
>>>>>>> 3d83e66cd53f2646ad11aa963b73532263fc3a6c
     "metadata": {},
     "output_type": "execute_result"
    }
   ],
   "source": [
    "data[0]"
   ]
  },
  {
   "cell_type": "code",
<<<<<<< HEAD
   "execution_count": 10,
   "id": "b43d4102-5f0c-4c39-a8cf-18840aa9f2ae",
   "metadata": {},
   "outputs": [],
   "source": [
    "X = []\n",
    "y = []\n",
    "\n",
    "for features, labels in data:\n",
    "    X.append(features)\n",
    "    y.append(labels)"
   ]
  },
  {
   "cell_type": "code",
   "execution_count": 27,
   "id": "a3822cbe-d11f-4aad-97b9-a687367dc29e",
   "metadata": {},
   "outputs": [],
   "source": [
    "ynew = []\n",
    "for yval in y:\n",
    "    if yval == \"dog\":\n",
    "        ynew.append(0)\n",
    "    else:\n",
    "        ynew.append(1)\n",
    "y = ynew"
   ]
  },
  {
   "cell_type": "code",
   "execution_count": 40,
   "id": "aa992dd8-f345-4a4d-8e4a-ad8483473714",
   "metadata": {},
   "outputs": [],
   "source": [
    "# Convert X and ensure all elements are NumPy arrays\n",
    "X = np.array(X)\n",
    "\n",
    "# Ensure y is a NumPy array\n",
    "y = np.array(y)"
   ]
  },
  {
   "cell_type": "code",
   "execution_count": 43,
   "id": "2ca0378e-77bf-464a-bc66-1b3357aed7ab",
   "metadata": {},
   "outputs": [],
   "source": [
    "pickle.dump(X, open(\"X.pkl\", \"wb\"))\n",
    "pickle.dump(y, open(\"y.pkl\", \"wb\"))"
   ]
  },
  {
   "cell_type": "code",
   "execution_count": 44,
   "id": "f1838f50-18f6-440d-9215-77aedc7dc290",
   "metadata": {},
   "outputs": [],
   "source": [
    "# Training of model follows from here"
   ]
  },
  {
   "cell_type": "code",
   "execution_count": 45,
   "id": "c56eef75-e0c2-4a81-9bd9-2b3459921283",
   "metadata": {},
   "outputs": [],
   "source": [
    "X = pickle.load(open(\"X.pkl\", \"rb\"))\n",
    "y = pickle.load(open(\"y.pkl\", \"rb\"))"
   ]
  },
  {
   "cell_type": "code",
   "execution_count": 46,
   "id": "17baac55-00d9-41bd-aa0d-40ac3a93b220",
   "metadata": {},
   "outputs": [],
   "source": [
    "# Function to resize an array to a target shape\n",
    "def resize_array(arr, target_shape):\n",
    "    return cv2.resize(arr, (target_shape[1], target_shape[0]))"
   ]
  },
  {
   "cell_type": "code",
   "execution_count": 47,
   "id": "74710ec4-e793-476c-b583-7a2ba4346b83",
   "metadata": {},
   "outputs": [],
   "source": [
    "# Target shape for resizing (choose appropriate dimensions)\n",
    "target_shape = (100, 100, 3)\n",
    "\n",
    "# Resize all arrays to the target shape\n",
    "resized_X = [resize_array(arr, target_shape[:2]) for arr in X]\n",
    "\n",
    "# Convert the list of resized arrays to a NumPy array\n",
    "X = np.array(resized_X)"
   ]
  },
  {
   "cell_type": "code",
   "execution_count": 48,
   "id": "5d1ce363-c0ba-4e69-b902-9fe2738a02f0",
   "metadata": {},
   "outputs": [],
   "source": [
    "X = X/255"
   ]
  },
  {
   "cell_type": "code",
   "execution_count": 49,
   "id": "288f6726-c5df-470a-ae3d-51d1edf355b0",
   "metadata": {},
   "outputs": [
    {
     "data": {
      "text/plain": [
       "(25000, 100, 100, 3)"
      ]
     },
     "execution_count": 49,
     "metadata": {},
     "output_type": "execute_result"
    }
   ],
   "source": [
    "X.shape"
   ]
  },
  {
   "cell_type": "code",
   "execution_count": 50,
   "id": "4edc1ab8-e8df-4425-b6eb-fd33a391d800",
   "metadata": {},
   "outputs": [],
   "source": [
    "from keras.models import Sequential\n",
    "from keras.layers import Conv2D, MaxPooling2D, Flatten, Dense"
   ]
  },
  {
   "cell_type": "code",
   "execution_count": 51,
   "id": "76cc82b2-ca92-48af-a2f0-79659fe52f2b",
   "metadata": {},
   "outputs": [],
   "source": [
    "model = Sequential()\n",
    "\n",
    "model.add(Conv2D(64, (3,3), activation = 'relu'))\n",
    "model.add(MaxPooling2D((2,2)))\n",
    "\n",
    "model.add(Conv2D(64, (3,3), activation = 'relu'))\n",
    "model.add(MaxPooling2D((2,2)))\n",
    "\n",
    "model.add(Flatten())\n",
    "\n",
    "model.add(Dense(128, input_shape = X.shape[1:], activation = 'relu'))\n",
    "\n",
    "model.add(Dense(2, activation = 'softmax'))"
   ]
  },
  {
   "cell_type": "code",
   "execution_count": 52,
   "id": "61406dd7-0cf3-4c10-8877-e615c7e89a28",
   "metadata": {},
   "outputs": [],
   "source": [
    "model.compile(optimizer = 'adam', loss='sparse_categorical_crossentropy',  metrics = ['accuracy'])"
   ]
  },
  {
   "cell_type": "code",
   "execution_count": null,
   "id": "4ed8912c-78b3-419a-a284-ff4a4be6b967",
   "metadata": {},
   "outputs": [],
   "source": [
    "model.fit(X, y, epochs = 5, validation_split = 0.1)"
   ]
=======
   "execution_count": null,
   "id": "b43d4102-5f0c-4c39-a8cf-18840aa9f2ae",
   "metadata": {},
   "outputs": [],
   "source": []
>>>>>>> 3d83e66cd53f2646ad11aa963b73532263fc3a6c
  }
 ],
 "metadata": {
  "kernelspec": {
   "display_name": "Python 3 (ipykernel)",
   "language": "python",
   "name": "python3"
  },
  "language_info": {
   "codemirror_mode": {
    "name": "ipython",
    "version": 3
   },
   "file_extension": ".py",
   "mimetype": "text/x-python",
   "name": "python",
   "nbconvert_exporter": "python",
   "pygments_lexer": "ipython3",
   "version": "3.12.2"
  }
 },
 "nbformat": 4,
 "nbformat_minor": 5
}
